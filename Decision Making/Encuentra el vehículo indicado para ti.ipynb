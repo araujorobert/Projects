{
 "cells": [
  {
   "cell_type": "markdown",
   "id": "8c9e0b17",
   "metadata": {},
   "source": [
    "# Tu auto ideal\n",
    "Encontrar el vehiculo indicado puede ser dificil y en especial porque hay muchos factores a considerar, tales como:\n",
    "- El tipo de vehiculo\n",
    "- La marca\n",
    "- La antiguedad del vehiculo\n",
    "- El precio\n",
    "- Si quieres que sea estandar o automatico\n",
    "\n",
    "Y un sin fín más. Por lo general tomamos estas deciciones basadas en nuestros gustos y posibilidades economicas. Lo que normalemente se hace es checar nuestro presupuesto, preguntar a familiares o amigos que marcas son mas buenas e ir a la agencia a elegir el auto en existencia que más o menos se aproxime a lo que estamos buscando. \n",
    "\n",
    "Ahora imagina que tienes acceso a una base de datos de autos disponibles en tu ciudad, en la cual viene información relevante de cada uno y con la cual puedes ir filtrando aquellos que más te interecen o incluso crear un modelo estadistico que te ayude a tomar una mejor decisión ¿que útil sería no? pues eso es lo que haremos a continuación."
   ]
  },
  {
   "cell_type": "code",
   "execution_count": 1,
   "id": "2f590b74",
   "metadata": {},
   "outputs": [],
   "source": [
    "# Importamos librerias\n",
    "import pandas as pd\n",
    "import numpy as np\n",
    "import matplotlib.pyplot as plt\n",
    "plt.style.use('seaborn')\n",
    "import seaborn as sb\n",
    "\n",
    "# Ignoramos warnings\n",
    "import warnings\n",
    "warnings.filterwarnings('ignore')"
   ]
  },
  {
   "cell_type": "code",
   "execution_count": 2,
   "id": "3d5e0fc7",
   "metadata": {},
   "outputs": [
    {
     "data": {
      "text/html": [
       "<div>\n",
       "<style scoped>\n",
       "    .dataframe tbody tr th:only-of-type {\n",
       "        vertical-align: middle;\n",
       "    }\n",
       "\n",
       "    .dataframe tbody tr th {\n",
       "        vertical-align: top;\n",
       "    }\n",
       "\n",
       "    .dataframe thead th {\n",
       "        text-align: right;\n",
       "    }\n",
       "</style>\n",
       "<table border=\"1\" class=\"dataframe\">\n",
       "  <thead>\n",
       "    <tr style=\"text-align: right;\">\n",
       "      <th></th>\n",
       "      <th>Car_Name</th>\n",
       "      <th>Year</th>\n",
       "      <th>Selling_Price</th>\n",
       "      <th>Present_Price</th>\n",
       "      <th>Kms_Driven</th>\n",
       "      <th>Fuel_Type</th>\n",
       "      <th>Seller_Type</th>\n",
       "      <th>Transmission</th>\n",
       "      <th>Owner</th>\n",
       "    </tr>\n",
       "  </thead>\n",
       "  <tbody>\n",
       "    <tr>\n",
       "      <th>0</th>\n",
       "      <td>ritz</td>\n",
       "      <td>2014</td>\n",
       "      <td>3.35</td>\n",
       "      <td>5.59</td>\n",
       "      <td>27000</td>\n",
       "      <td>Petrol</td>\n",
       "      <td>Dealer</td>\n",
       "      <td>Manual</td>\n",
       "      <td>0</td>\n",
       "    </tr>\n",
       "    <tr>\n",
       "      <th>1</th>\n",
       "      <td>sx4</td>\n",
       "      <td>2013</td>\n",
       "      <td>4.75</td>\n",
       "      <td>9.54</td>\n",
       "      <td>43000</td>\n",
       "      <td>Diesel</td>\n",
       "      <td>Dealer</td>\n",
       "      <td>Manual</td>\n",
       "      <td>0</td>\n",
       "    </tr>\n",
       "    <tr>\n",
       "      <th>2</th>\n",
       "      <td>ciaz</td>\n",
       "      <td>2017</td>\n",
       "      <td>7.25</td>\n",
       "      <td>9.85</td>\n",
       "      <td>6900</td>\n",
       "      <td>Petrol</td>\n",
       "      <td>Dealer</td>\n",
       "      <td>Manual</td>\n",
       "      <td>0</td>\n",
       "    </tr>\n",
       "    <tr>\n",
       "      <th>3</th>\n",
       "      <td>wagon r</td>\n",
       "      <td>2011</td>\n",
       "      <td>2.85</td>\n",
       "      <td>4.15</td>\n",
       "      <td>5200</td>\n",
       "      <td>Petrol</td>\n",
       "      <td>Dealer</td>\n",
       "      <td>Manual</td>\n",
       "      <td>0</td>\n",
       "    </tr>\n",
       "    <tr>\n",
       "      <th>4</th>\n",
       "      <td>swift</td>\n",
       "      <td>2014</td>\n",
       "      <td>4.60</td>\n",
       "      <td>6.87</td>\n",
       "      <td>42450</td>\n",
       "      <td>Diesel</td>\n",
       "      <td>Dealer</td>\n",
       "      <td>Manual</td>\n",
       "      <td>0</td>\n",
       "    </tr>\n",
       "  </tbody>\n",
       "</table>\n",
       "</div>"
      ],
      "text/plain": [
       "  Car_Name  Year  Selling_Price  Present_Price  Kms_Driven Fuel_Type  \\\n",
       "0     ritz  2014           3.35           5.59       27000    Petrol   \n",
       "1      sx4  2013           4.75           9.54       43000    Diesel   \n",
       "2     ciaz  2017           7.25           9.85        6900    Petrol   \n",
       "3  wagon r  2011           2.85           4.15        5200    Petrol   \n",
       "4    swift  2014           4.60           6.87       42450    Diesel   \n",
       "\n",
       "  Seller_Type Transmission  Owner  \n",
       "0      Dealer       Manual      0  \n",
       "1      Dealer       Manual      0  \n",
       "2      Dealer       Manual      0  \n",
       "3      Dealer       Manual      0  \n",
       "4      Dealer       Manual      0  "
      ]
     },
     "execution_count": 2,
     "metadata": {},
     "output_type": "execute_result"
    }
   ],
   "source": [
    "# Importamos datos\n",
    "path = 'C:/Users/Roberto/Downloads/archive (3)/DataCars.csv'\n",
    "data = pd.read_csv(path)\n",
    "data.head()"
   ]
  },
  {
   "cell_type": "markdown",
   "id": "f8757b3b",
   "metadata": {},
   "source": [
    "## Limpieza del dataframe\n",
    "\n",
    "- Creamos un sub-dataframe con las variables de interes"
   ]
  },
  {
   "cell_type": "code",
   "execution_count": 3,
   "id": "5c439320",
   "metadata": {},
   "outputs": [
    {
     "data": {
      "text/html": [
       "<div>\n",
       "<style scoped>\n",
       "    .dataframe tbody tr th:only-of-type {\n",
       "        vertical-align: middle;\n",
       "    }\n",
       "\n",
       "    .dataframe tbody tr th {\n",
       "        vertical-align: top;\n",
       "    }\n",
       "\n",
       "    .dataframe thead th {\n",
       "        text-align: right;\n",
       "    }\n",
       "</style>\n",
       "<table border=\"1\" class=\"dataframe\">\n",
       "  <thead>\n",
       "    <tr style=\"text-align: right;\">\n",
       "      <th></th>\n",
       "      <th>Vehiculo</th>\n",
       "      <th>Año</th>\n",
       "      <th>Precio</th>\n",
       "      <th>Kilometrage</th>\n",
       "      <th>Combustible</th>\n",
       "      <th>Transmision</th>\n",
       "    </tr>\n",
       "  </thead>\n",
       "  <tbody>\n",
       "    <tr>\n",
       "      <th>0</th>\n",
       "      <td>ritz</td>\n",
       "      <td>2014</td>\n",
       "      <td>3.35</td>\n",
       "      <td>27000</td>\n",
       "      <td>Petrol</td>\n",
       "      <td>Manual</td>\n",
       "    </tr>\n",
       "    <tr>\n",
       "      <th>1</th>\n",
       "      <td>sx4</td>\n",
       "      <td>2013</td>\n",
       "      <td>4.75</td>\n",
       "      <td>43000</td>\n",
       "      <td>Diesel</td>\n",
       "      <td>Manual</td>\n",
       "    </tr>\n",
       "    <tr>\n",
       "      <th>2</th>\n",
       "      <td>ciaz</td>\n",
       "      <td>2017</td>\n",
       "      <td>7.25</td>\n",
       "      <td>6900</td>\n",
       "      <td>Petrol</td>\n",
       "      <td>Manual</td>\n",
       "    </tr>\n",
       "    <tr>\n",
       "      <th>3</th>\n",
       "      <td>wagon r</td>\n",
       "      <td>2011</td>\n",
       "      <td>2.85</td>\n",
       "      <td>5200</td>\n",
       "      <td>Petrol</td>\n",
       "      <td>Manual</td>\n",
       "    </tr>\n",
       "    <tr>\n",
       "      <th>4</th>\n",
       "      <td>swift</td>\n",
       "      <td>2014</td>\n",
       "      <td>4.60</td>\n",
       "      <td>42450</td>\n",
       "      <td>Diesel</td>\n",
       "      <td>Manual</td>\n",
       "    </tr>\n",
       "  </tbody>\n",
       "</table>\n",
       "</div>"
      ],
      "text/plain": [
       "  Vehiculo   Año  Precio  Kilometrage Combustible Transmision\n",
       "0     ritz  2014    3.35        27000      Petrol      Manual\n",
       "1      sx4  2013    4.75        43000      Diesel      Manual\n",
       "2     ciaz  2017    7.25         6900      Petrol      Manual\n",
       "3  wagon r  2011    2.85         5200      Petrol      Manual\n",
       "4    swift  2014    4.60        42450      Diesel      Manual"
      ]
     },
     "execution_count": 3,
     "metadata": {},
     "output_type": "execute_result"
    }
   ],
   "source": [
    "# Creamos un subdataframe con las variables de interes\n",
    "columnas = ['Car_Name','Year','Selling_Price','Kms_Driven','Fuel_Type','Transmission']\n",
    "subdata = data[columnas]\n",
    "subdata.rename(columns = {'Car_Name':'Vehiculo',\n",
    "                                    'Year':'Año',\n",
    "                                    'Selling_Price':'Precio',\n",
    "                                    'Kms_Driven':'Kilometrage',\n",
    "                                    'Fuel_Type':'Combustible',\n",
    "                                    'Transmission':'Transmision'}, inplace=True)\n",
    "\n",
    "subdata.head()"
   ]
  },
  {
   "cell_type": "code",
   "execution_count": 4,
   "id": "512e7582",
   "metadata": {},
   "outputs": [
    {
     "data": {
      "text/plain": [
       "(301, 6)"
      ]
     },
     "execution_count": 4,
     "metadata": {},
     "output_type": "execute_result"
    }
   ],
   "source": [
    "# Vemos las dimensiones del dataframe\n",
    "subdata.shape"
   ]
  },
  {
   "cell_type": "code",
   "execution_count": 5,
   "id": "dc20e06f",
   "metadata": {},
   "outputs": [
    {
     "data": {
      "text/plain": [
       "Vehiculo       0\n",
       "Año            0\n",
       "Precio         0\n",
       "Kilometrage    0\n",
       "Combustible    0\n",
       "Transmision    0\n",
       "dtype: int64"
      ]
     },
     "execution_count": 5,
     "metadata": {},
     "output_type": "execute_result"
    }
   ],
   "source": [
    "# Vemos si hay nulos\n",
    "subdata.isnull().sum()"
   ]
  },
  {
   "cell_type": "code",
   "execution_count": 6,
   "id": "f363dd62",
   "metadata": {},
   "outputs": [
    {
     "data": {
      "text/plain": [
       "2"
      ]
     },
     "execution_count": 6,
     "metadata": {},
     "output_type": "execute_result"
    }
   ],
   "source": [
    "# Vemos si hay duplicados\n",
    "subdata.duplicated().sum()"
   ]
  },
  {
   "cell_type": "code",
   "execution_count": 7,
   "id": "e985c518",
   "metadata": {},
   "outputs": [
    {
     "data": {
      "text/plain": [
       "0"
      ]
     },
     "execution_count": 7,
     "metadata": {},
     "output_type": "execute_result"
    }
   ],
   "source": [
    "# Vemos que hay dos duplicados, por lo tanto dropeamos dichos valores:\n",
    "subdata.drop_duplicates(inplace=True)\n",
    "subdata.duplicated().sum()"
   ]
  },
  {
   "cell_type": "code",
   "execution_count": 8,
   "id": "d9422189",
   "metadata": {},
   "outputs": [
    {
     "data": {
      "text/plain": [
       "299"
      ]
     },
     "execution_count": 8,
     "metadata": {},
     "output_type": "execute_result"
    }
   ],
   "source": [
    "# Cuando dropeas valores se hacen huecos en los indices y despues no se puede iterar sobre el data frame\n",
    "# Para arreglar ésto hacemos:\n",
    "subdata = subdata.reset_index(drop=True)\n",
    "len(subdata)"
   ]
  },
  {
   "cell_type": "code",
   "execution_count": 9,
   "id": "98e6c8a5",
   "metadata": {},
   "outputs": [
    {
     "data": {
      "text/plain": [
       "array(['ritz', 'sx4', 'ciaz', 'wagon r', 'swift', 'vitara brezza',\n",
       "       's cross', 'alto 800', 'ertiga', 'dzire', 'alto k10', 'ignis',\n",
       "       '800', 'baleno', 'omni', 'fortuner', 'innova', 'corolla altis',\n",
       "       'etios cross', 'etios g', 'etios liva', 'corolla', 'etios gd',\n",
       "       'camry', 'land cruiser', 'Royal Enfield Thunder 500',\n",
       "       'UM Renegade Mojave', 'KTM RC200', 'Bajaj Dominar 400',\n",
       "       'Royal Enfield Classic 350', 'KTM RC390', 'Hyosung GT250R',\n",
       "       'Royal Enfield Thunder 350', 'KTM 390 Duke ',\n",
       "       'Mahindra Mojo XT300', 'Bajaj Pulsar RS200',\n",
       "       'Royal Enfield Bullet 350', 'Royal Enfield Classic 500',\n",
       "       'Bajaj Avenger 220', 'Bajaj Avenger 150', 'Honda CB Hornet 160R',\n",
       "       'Yamaha FZ S V 2.0', 'Yamaha FZ 16', 'TVS Apache RTR 160',\n",
       "       'Bajaj Pulsar 150', 'Honda CBR 150', 'Hero Extreme',\n",
       "       'Bajaj Avenger 220 dtsi', 'Bajaj Avenger 150 street',\n",
       "       'Yamaha FZ  v 2.0', 'Bajaj Pulsar  NS 200', 'Bajaj Pulsar 220 F',\n",
       "       'TVS Apache RTR 180', 'Hero Passion X pro', 'Bajaj Pulsar NS 200',\n",
       "       'Yamaha Fazer ', 'Honda Activa 4G', 'TVS Sport ',\n",
       "       'Honda Dream Yuga ', 'Bajaj Avenger Street 220',\n",
       "       'Hero Splender iSmart', 'Activa 3g', 'Hero Passion Pro',\n",
       "       'Honda CB Trigger', 'Yamaha FZ S ', 'Bajaj Pulsar 135 LS',\n",
       "       'Activa 4g', 'Honda CB Unicorn', 'Hero Honda CBZ extreme',\n",
       "       'Honda Karizma', 'Honda Activa 125', 'TVS Jupyter',\n",
       "       'Hero Honda Passion Pro', 'Hero Splender Plus', 'Honda CB Shine',\n",
       "       'Bajaj Discover 100', 'Suzuki Access 125', 'TVS Wego',\n",
       "       'Honda CB twister', 'Hero Glamour', 'Hero Super Splendor',\n",
       "       'Bajaj Discover 125', 'Hero Hunk', 'Hero  Ignitor Disc',\n",
       "       'Hero  CBZ Xtreme', 'Bajaj  ct 100', 'i20', 'grand i10', 'i10',\n",
       "       'eon', 'xcent', 'elantra', 'creta', 'verna', 'city', 'brio',\n",
       "       'amaze', 'jazz'], dtype=object)"
      ]
     },
     "execution_count": 9,
     "metadata": {},
     "output_type": "execute_result"
    }
   ],
   "source": [
    "# Veamos cuantos tipos de vehiculos hay\n",
    "subdata.Vehiculo.unique()"
   ]
  },
  {
   "cell_type": "code",
   "execution_count": 10,
   "id": "8d6e9ecc",
   "metadata": {},
   "outputs": [
    {
     "data": {
      "text/plain": [
       "98"
      ]
     },
     "execution_count": 10,
     "metadata": {},
     "output_type": "execute_result"
    }
   ],
   "source": [
    "# Vemos que son un webo, exactamente:\n",
    "len(subdata.Vehiculo.unique()) # 98 vehiculos..."
   ]
  },
  {
   "cell_type": "markdown",
   "id": "264ae085",
   "metadata": {},
   "source": [
    "## Análisis Exploratorio\n",
    "\n",
    "### Variables Categoricas"
   ]
  },
  {
   "cell_type": "code",
   "execution_count": 11,
   "id": "be32c210",
   "metadata": {},
   "outputs": [
    {
     "data": {
      "text/plain": [
       "city                        26\n",
       "corolla altis               16\n",
       "verna                       14\n",
       "brio                        10\n",
       "fortuner                    10\n",
       "                            ..\n",
       "Honda CB Trigger             1\n",
       "Yamaha FZ S                  1\n",
       "Bajaj Pulsar 135 LS          1\n",
       "Activa 4g                    1\n",
       "Bajaj Avenger Street 220     1\n",
       "Name: Vehiculo, Length: 98, dtype: int64"
      ]
     },
     "execution_count": 11,
     "metadata": {},
     "output_type": "execute_result"
    }
   ],
   "source": [
    "# Veamos cual es el vehiculo mas comun y el menos comun:\n",
    "numero_de_vehiculos = subdata['Vehiculo'].value_counts()\n",
    "numero_de_vehiculos"
   ]
  },
  {
   "cell_type": "markdown",
   "id": "5b4a4d37",
   "metadata": {},
   "source": [
    "**Observaciones**\n",
    "- El vehículo más comun es el city."
   ]
  },
  {
   "cell_type": "code",
   "execution_count": 12,
   "id": "29ff3a8f",
   "metadata": {},
   "outputs": [
    {
     "data": {
      "image/png": "[encoded data removed]",
      "text/plain": [
       "<Figure size 1080x540 with 2 Axes>"
      ]
     },
     "metadata": {},
     "output_type": "display_data"
    }
   ],
   "source": [
    "# Hagamos el estudio de frecuencias para la variable Transmision \n",
    "plt.figure(figsize=(15,7.5))\n",
    "\n",
    "plt.subplot(1,2,2)\n",
    "motores = subdata.groupby('Transmision').count().T.sum().tolist()\n",
    "tipo = ['Automatic','Manual']\n",
    "plt.pie(motores,labels=tipo, shadow=True)\n",
    "plt.title('Tipo de Transmisión')\n",
    "\n",
    "plt.subplot(1,2,1)\n",
    "plt.hist(subdata['Combustible'])\n",
    "plt.title('Número de Autos Estandar y Automaticos')\n",
    "\n",
    "plt.show()"
   ]
  },
  {
   "cell_type": "markdown",
   "id": "7431f0f2",
   "metadata": {},
   "source": [
    "**Observaciones**\n",
    "- El tipo de motor más común es el Manual (o como se conoce en México \"estandar\")\n",
    "\n",
    "- El combustible más común es el Petrol.\n",
    "\n",
    "### ¿Habrá relación entre el tipo de transmision y el tipo de combustible que consume un auto?"
   ]
  },
  {
   "cell_type": "code",
   "execution_count": 13,
   "id": "4cfc30e4",
   "metadata": {},
   "outputs": [
    {
     "data": {
      "image/png": "[encoded data removed]",
      "text/plain": [
       "<Figure size 720x576 with 1 Axes>"
      ]
     },
     "metadata": {},
     "output_type": "display_data"
    }
   ],
   "source": [
    "# Para responder la pregunta anterior hacemos un estudio de fercuencias conjuntas\n",
    "tabla = pd.crosstab(subdata['Transmision'],subdata['Combustible'])\n",
    "plt.figure(figsize=(10,8))\n",
    "sb.heatmap(tabla, annot=True, fmt='d',linewidth=2, cmap='Blues', linecolor='Black', cbar=False)\n",
    "plt.show()"
   ]
  },
  {
   "cell_type": "markdown",
   "id": "7325c5f3",
   "metadata": {},
   "source": [
    "**Observaciones**\n",
    "- La mayoría de los vehículos son estandar que usan gasolina común\n",
    "- Casi ningún vehiculo utiliza CNG."
   ]
  },
  {
   "cell_type": "markdown",
   "id": "7f674e11",
   "metadata": {},
   "source": [
    "### Variables numéricas"
   ]
  },
  {
   "cell_type": "code",
   "execution_count": 14,
   "id": "aecde430",
   "metadata": {},
   "outputs": [
    {
     "data": {
      "text/html": [
       "<div>\n",
       "<style scoped>\n",
       "    .dataframe tbody tr th:only-of-type {\n",
       "        vertical-align: middle;\n",
       "    }\n",
       "\n",
       "    .dataframe tbody tr th {\n",
       "        vertical-align: top;\n",
       "    }\n",
       "\n",
       "    .dataframe thead th {\n",
       "        text-align: right;\n",
       "    }\n",
       "</style>\n",
       "<table border=\"1\" class=\"dataframe\">\n",
       "  <thead>\n",
       "    <tr style=\"text-align: right;\">\n",
       "      <th></th>\n",
       "      <th>Año</th>\n",
       "      <th>Precio</th>\n",
       "      <th>Kilometrage</th>\n",
       "    </tr>\n",
       "  </thead>\n",
       "  <tbody>\n",
       "    <tr>\n",
       "      <th>count</th>\n",
       "      <td>299.000000</td>\n",
       "      <td>299.000000</td>\n",
       "      <td>299.000000</td>\n",
       "    </tr>\n",
       "    <tr>\n",
       "      <th>mean</th>\n",
       "      <td>2013.615385</td>\n",
       "      <td>4.589632</td>\n",
       "      <td>36916.752508</td>\n",
       "    </tr>\n",
       "    <tr>\n",
       "      <th>std</th>\n",
       "      <td>2.896868</td>\n",
       "      <td>4.984240</td>\n",
       "      <td>39015.170352</td>\n",
       "    </tr>\n",
       "    <tr>\n",
       "      <th>min</th>\n",
       "      <td>2003.000000</td>\n",
       "      <td>0.100000</td>\n",
       "      <td>500.000000</td>\n",
       "    </tr>\n",
       "    <tr>\n",
       "      <th>25%</th>\n",
       "      <td>2012.000000</td>\n",
       "      <td>0.850000</td>\n",
       "      <td>15000.000000</td>\n",
       "    </tr>\n",
       "    <tr>\n",
       "      <th>50%</th>\n",
       "      <td>2014.000000</td>\n",
       "      <td>3.510000</td>\n",
       "      <td>32000.000000</td>\n",
       "    </tr>\n",
       "    <tr>\n",
       "      <th>75%</th>\n",
       "      <td>2016.000000</td>\n",
       "      <td>6.000000</td>\n",
       "      <td>48883.500000</td>\n",
       "    </tr>\n",
       "    <tr>\n",
       "      <th>max</th>\n",
       "      <td>2018.000000</td>\n",
       "      <td>35.000000</td>\n",
       "      <td>500000.000000</td>\n",
       "    </tr>\n",
       "  </tbody>\n",
       "</table>\n",
       "</div>"
      ],
      "text/plain": [
       "               Año      Precio    Kilometrage\n",
       "count   299.000000  299.000000     299.000000\n",
       "mean   2013.615385    4.589632   36916.752508\n",
       "std       2.896868    4.984240   39015.170352\n",
       "min    2003.000000    0.100000     500.000000\n",
       "25%    2012.000000    0.850000   15000.000000\n",
       "50%    2014.000000    3.510000   32000.000000\n",
       "75%    2016.000000    6.000000   48883.500000\n",
       "max    2018.000000   35.000000  500000.000000"
      ]
     },
     "execution_count": 14,
     "metadata": {},
     "output_type": "execute_result"
    }
   ],
   "source": [
    "# hagamos un describe para hacernos una idea general de los datos numericos\n",
    "subdata.describe()"
   ]
  },
  {
   "cell_type": "markdown",
   "id": "92409600",
   "metadata": {},
   "source": [
    "**Observaciones**\n",
    "- En promedio un vehículo cuesta 4,661 dlls. El más barato cuesta 100 dlls y el más caro 35,000 dlls\n",
    "- El 50% de los vehículos son modelos entre 2012 y 2016, el más viejo es del año 2003 y el más nuevo del 2018.\n",
    "- La media de kilometrage es de 36,947 km, el menos corrido tiene 500 km y el mas carreteado medio millon de kms"
   ]
  },
  {
   "cell_type": "code",
   "execution_count": 15,
   "id": "5d408df2",
   "metadata": {},
   "outputs": [
    {
     "data": {
      "image/png": "[encoded data removed]",
      "text/plain": [
       "<Figure size 1152x576 with 2 Axes>"
      ]
     },
     "metadata": {},
     "output_type": "display_data"
    }
   ],
   "source": [
    "# Estudiemos la disribución y dispersion de la variable Año\n",
    "plt.figure(figsize=(16,8))\n",
    "\n",
    "plt.subplot(1,2,1)\n",
    "subdata.Año.plot(kind='hist', title='Vehiculos según el año')\n",
    "\n",
    "plt.subplot(1,2,2)\n",
    "plt.boxplot(subdata['Año'], vert=0, notch=True)\n",
    "plt.title('Año de lanzamiento del vehiculo')\n",
    "plt.show()"
   ]
  },
  {
   "cell_type": "markdown",
   "id": "142e517d",
   "metadata": {},
   "source": [
    "**Observaciones**\n",
    "- La mayoría de los autos son modelos 2009 en adelante.\n",
    "- Los autos viejos son poco comunes, vemos 3 outliers para modelos de auto anteriores al 2006. Esto hace sentido puesto que en Estados Unidos las reglas son más estrictas que en México y los autos viejos son exportados a otros paises.\n"
   ]
  },
  {
   "cell_type": "code",
   "execution_count": 16,
   "id": "1ff21e8c",
   "metadata": {},
   "outputs": [
    {
     "data": {
      "image/png": "[encoded data removed]",
      "text/plain": [
       "<Figure size 1152x504 with 2 Axes>"
      ]
     },
     "metadata": {},
     "output_type": "display_data"
    }
   ],
   "source": [
    "# Hagamos el mismo analisis para la variable Precio\n",
    "plt.figure(figsize=(16,7))\n",
    "\n",
    "plt.subplot(1,2,1)\n",
    "subdata['Precio'].plot(kind='hist', title='Precios de los autos')\n",
    "\n",
    "plt.subplot(1,2,2)\n",
    "plt.boxplot(subdata['Precio'], vert=0, notch=True)\n",
    "plt.title('Precios de los autos')\n",
    "plt.show()"
   ]
  },
  {
   "cell_type": "markdown",
   "id": "cac77bad",
   "metadata": {},
   "source": [
    "**Observaciones**\n",
    "\n",
    "- La mayoria de los vehiculos tienen precios menores o iguales a 10 mil dolares.\n"
   ]
  },
  {
   "cell_type": "code",
   "execution_count": 17,
   "id": "0a75c25d",
   "metadata": {},
   "outputs": [
    {
     "data": {
      "image/png": "[encoded data removed]",
      "text/plain": [
       "<Figure size 1008x432 with 2 Axes>"
      ]
     },
     "metadata": {},
     "output_type": "display_data"
    }
   ],
   "source": [
    "plt.figure(figsize=(14,6))\n",
    "\n",
    "plt.subplot(1,2,1)\n",
    "subdata['Kilometrage'].plot(kind='hist', title='Kilometrage de los vehiculos')\n",
    "\n",
    "plt.subplot(1,2,2)\n",
    "plt.boxplot(subdata['Kilometrage'], vert=0, notch=True)\n",
    "plt.title('Kilometrage de los vehiculos')\n",
    "plt.show()"
   ]
  },
  {
   "cell_type": "markdown",
   "id": "cd07f08a",
   "metadata": {},
   "source": [
    "**Observaciones**\n",
    "- La mayoria de los autos tienen un kilometrage menor a los 100 mil kilometros.\n",
    "\n",
    "- De esta ultima grafica podemos ver que el kilometraje promedio fue fuertemente afectado por la presencia de outliers, por lo que para hacer un analisis eficiente debemos precindir de estos valores y recalcular la media. Para ésto usaremos el metodo IQR."
   ]
  },
  {
   "cell_type": "code",
   "execution_count": 18,
   "id": "1fdc9812",
   "metadata": {},
   "outputs": [],
   "source": [
    "# Creamos una función que extrae los indices pertenecientes a outliers de una tira de datos\n",
    "def outliers(data):\n",
    "    Q1 = data.quantile(0.25)\n",
    "    Q3 = data.quantile(0.75)\n",
    "    IQR = Q3 - Q1 \n",
    "    \n",
    "    lower_bound = Q1 - 1.5 * IQR\n",
    "    upper_bound = Q3 + 1.5 * IQR\n",
    "    \n",
    "    data_clean = data[ ( data > lower_bound ) & ( data < upper_bound )]\n",
    "    \n",
    "    return data_clean"
   ]
  },
  {
   "cell_type": "code",
   "execution_count": 21,
   "id": "22b46093",
   "metadata": {},
   "outputs": [
    {
     "data": {
      "image/png": "[encoded data removed]",
      "text/plain": [
       "<Figure size 576x396 with 1 Axes>"
      ]
     },
     "metadata": {},
     "output_type": "display_data"
    }
   ],
   "source": [
    "# Boxplot de los datos limpios\n",
    "plt.boxplot(outliers(subdata['Kilometrage']), vert=0)\n",
    "plt.title('Datos limpios')\n",
    "plt.show()"
   ]
  },
  {
   "cell_type": "code",
   "execution_count": 22,
   "id": "57fcb9df",
   "metadata": {},
   "outputs": [
    {
     "data": {
      "text/plain": [
       "32591.31271477663"
      ]
     },
     "execution_count": 22,
     "metadata": {},
     "output_type": "execute_result"
    }
   ],
   "source": [
    "# El kilometrage medio no desviado:\n",
    "Kilometrage_medio = outliers(subdata.Kilometrage).mean()\n",
    "Kilometrage_medio # Los outliers movian la media ~ 4,500 kms"
   ]
  },
  {
   "cell_type": "markdown",
   "id": "514b074e",
   "metadata": {},
   "source": [
    "## Analisis mixto\n",
    "Analicemos la relación de las variables numéricas del vehiculo **City** por ser el más común."
   ]
  },
  {
   "cell_type": "code",
   "execution_count": null,
   "id": "6c8a0805",
   "metadata": {},
   "outputs": [],
   "source": [
    "vehiculos = subdata.groupby('Vehiculo')\n",
    "city = vehiculos.get_group('city')\n",
    "city"
   ]
  },
  {
   "cell_type": "code",
   "execution_count": null,
   "id": "7a72917a",
   "metadata": {},
   "outputs": [],
   "source": [
    "# Veamos la relación entre las variables Año y Kilometrage vs Precio:\n",
    "plt.figure(figsize=(14,5))\n",
    "\n",
    "plt.subplot(1,2,1)\n",
    "plt.scatter(city['Año'],city['Precio'],  c='r')\n",
    "plt.title('Precio en función del año')\n",
    "plt.xlabel('Año')\n",
    "plt.ylabel('Precio [dolares $x 10^3$]')\n",
    "\n",
    "plt.subplot(1,2,2)\n",
    "plt.scatter(city['Kilometrage'],city['Precio'], c='g')\n",
    "plt.title('Precio en función del kilometrage')\n",
    "plt.xlabel('Kilometros')\n",
    "plt.ylabel('Precio [dorales $x 10^3$]')\n",
    "plt.show()"
   ]
  },
  {
   "cell_type": "markdown",
   "id": "b4097633",
   "metadata": {},
   "source": [
    "**Observaciones**\n",
    "\n",
    "- En la grafica de la izquierda vemos que la tendencia es no lineal y a la alza. (mientras más nuevo el carro más caro costará).\n",
    "- En la de la derecha notamos una tendencia entre las variables **Precio** y **Kilometrage** es negativa y muy dispersa (a mayor kilometrage, menor costo)"
   ]
  },
  {
   "cell_type": "code",
   "execution_count": null,
   "id": "c520cbf5",
   "metadata": {},
   "outputs": [],
   "source": [
    "# Haciendo un scatterplot 3D con las 3 variables anteriores:\n",
    "x = city['Kilometrage'] ; y = city['Año'] ; z = city['Precio']\n",
    "\n",
    "\n",
    "# Creating figure\n",
    "fig = plt.figure(figsize = (19, 12))\n",
    "ax = plt.axes(projection =\"3d\")\n",
    "\n",
    "# Creating plot\n",
    "ax.scatter3D(x, y, z, color = \"r\")\n",
    "\n",
    "ax.set_xlabel('Kilometrage', fontweight ='bold')\n",
    "ax.set_ylabel('Año', fontweight ='bold')\n",
    "ax.set_zlabel('Precio', fontweight ='bold')\n",
    "\n",
    "# show plot\n",
    "plt.show()"
   ]
  },
  {
   "cell_type": "markdown",
   "id": "ad348ad9",
   "metadata": {},
   "source": [
    "**Observaciones**\n",
    "- Vemos que la mayoria de los puntos se concentran en la esquina superior izquierda. Éstos son autos city de modelo reciente, con poco kilometrage y por ende caros."
   ]
  },
  {
   "cell_type": "markdown",
   "id": "e10447c0",
   "metadata": {},
   "source": [
    "## Conclusiones del analisis exploratorio"
   ]
  },
  {
   "cell_type": "markdown",
   "id": "94e41b21",
   "metadata": {},
   "source": [
    "- **1.** Los vehículos \"city\", \"corolla altis\", \"verna\" y \"brio\" son los más comúnes                        \n",
    "- **2.** Los vehiculos estandar de petroleo son los más comunes\n",
    "- **3.** La mayoria de los autos son modelo 2009 en adelante\n",
    "- **4.** La mayoría de los autos tienen un kilometrage menor a 100 mil km's y en media ~ 32,591 km's\n",
    "- **5.** La mayoría de los autos cuestan menos de 10 mil dolares\n",
    "- **6.** Mientras mas nuevo el carro y menor kilometrage tenga, mas caro será"
   ]
  },
  {
   "cell_type": "markdown",
   "id": "8251753a",
   "metadata": {},
   "source": [
    "# Elección del auto ideal\n",
    "El cliente va elegir su vehículo en función de sus gustos, estos gustos serviran para filtrar del dataframe aquellos vehiculos que cuenten con las caracteristicas y posibilidades financieras del cliente. Para el filtrado usamos las siguientes variables:\n",
    "- Vehículo\n",
    "- Año\n",
    "- Combustible\n",
    "- Transmision\n",
    "- Kilometrage\n",
    "- Precio\n",
    "\n",
    "Al final del filtrado se tendra un subconjunto de vehiculos. El vehiculo que más se aproxime a los gustos y necesidades del cliente será el ideal."
   ]
  },
  {
   "cell_type": "code",
   "execution_count": null,
   "id": "ee76c3be",
   "metadata": {},
   "outputs": [],
   "source": [
    "# Utilicemos el analisis explatorio para elejir un carro de los más comunes y tener así mayor variedad de opciones\n",
    "\n",
    "# El auto mas común es el city\n",
    "vehiculo = subdata['Vehiculo'] == 'city'\n",
    "\n",
    "# La mayoria de los autos son modelos > 2009\n",
    "modelo = subdata['Año'] > 2009\n",
    "\n",
    "# La mayoria de los autos utilizan petroleo\n",
    "combustible = subdata['Combustible'] == 'Petrol'\n",
    "\n",
    "# La mayoria de los autos son estandar\n",
    "manejabilidad = subdata['Transmision'] == 'Manual'\n",
    "\n",
    "# La media del kilometrage de la muestra es ~ 32,600 dlls\n",
    "kilometrage = subdata['Kilometrage'] < 32591\n",
    "\n",
    "# El cliente cuenta solo con 7,500 dolares\n",
    "precio = subdata['Precio'] <= 7.5"
   ]
  },
  {
   "cell_type": "code",
   "execution_count": null,
   "id": "a93166ae",
   "metadata": {},
   "outputs": [],
   "source": [
    "# Subconjunto de autos que cumplen con las caracteristicas:\n",
    "Posibles_autos = subdata[ vehiculo  & modelo  & combustible  & manejabilidad  & kilometrage   & precio ]\n",
    "Posibles_autos"
   ]
  },
  {
   "cell_type": "markdown",
   "id": "1375d639",
   "metadata": {},
   "source": [
    "Aparentemente el auto mas convniente es el que tiene el identificador 267 puesto que tiene el menor kilometrage y es mas barato."
   ]
  },
  {
   "attachments": {
    "city.jpg": {
     "image/jpeg": "[encoded data removed]"
    }
   },
   "cell_type": "markdown",
   "id": "b4c48d3c",
   "metadata": {},
   "source": [
    "![city.jpg](attachment:city.jpg)"
   ]
  },
  {
   "cell_type": "markdown",
   "id": "6c6e1819",
   "metadata": {},
   "source": [
    "## Conclusión\n",
    "La Estadistica Descriptiva nos facilita la toma de decisiones cuando el numero de opciones es grande. En este caso fuimos capaces de reducir el avanico de posibilidades de 301 opciones a solo 2.\n"
   ]
  }
 ],
 "metadata": {
  "kernelspec": {
   "display_name": "Python 3 (ipykernel)",
   "language": "python",
   "name": "python3"
  },
  "language_info": {
   "codemirror_mode": {
    "name": "ipython",
    "version": 3
   },
   "file_extension": ".py",
   "mimetype": "text/x-python",
   "name": "python",
   "nbconvert_exporter": "python",
   "pygments_lexer": "ipython3",
   "version": "3.8.12"
  }
 },
 "nbformat": 4,
 "nbformat_minor": 5
}
